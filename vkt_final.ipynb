{
    "cells": [
        {
            "cell_type": "markdown",
            "source": [
                "Importação de bibliotecas  \r\n",
                "pandas - Análise de datasets  \r\n",
                "numpy - Funções de tipos de variáveis, variável np.nan e funções estatísticas (np.percentile)  \r\n",
                "math - Funções matemáticas, como exponencial, logarítimica e outras  \r\n",
                "unidecode - Retirada de acentuação de palavras  \r\n",
                "get_close_matches - Comparação aproximada entre strings  "
            ],
            "metadata": {}
        },
        {
            "cell_type": "code",
            "execution_count": null,
            "source": [
                "import pandas as pd\r\n",
                "import numpy as np\r\n",
                "import math\r\n",
                "from unidecode import unidecode\r\n",
                "from difflib import get_close_matches"
            ],
            "outputs": [],
            "metadata": {}
        },
        {
            "cell_type": "markdown",
            "source": [
                "get_vkt_preliminar  \r\n",
                "Função para indicar qual modelo será adotado para calcular o VKT Preliminar. Os modelos tiveram por referência CETESB (2013).\r\n",
                "\r\n",
                "Como parâmetros, são necessários uma parcela do dataframe df_denatran com as colunas ['Ano', 'Combustivel', 'Tipo'], bem como o ano de referência ao qual o VKT deverá ser calculado.\r\n",
                "\r\n",
                "CETESB. Curvas de intensidade de uso por tipo de veículo automotor da frota da cidade de São Paulo. São Paulo, SP, 2013. 67 p. (Série Relatórios). Disponível em: < https://cetesb.sp.gov.br/veicular/wpcontent/uploads/sites/6/2013/12/curvas-intensidade-uso-veiculos-automotorescidade-sao-paulo.pdf >. Acesso em: 18 jun. 2021.\r\n"
            ],
            "metadata": {}
        },
        {
            "cell_type": "code",
            "execution_count": null,
            "source": [
                "def get_vkt_preliminar (df, ano_base):\r\n",
                "    if(df['Tipo'] == 'AUTOMOVEL'):\r\n",
                "        if(df['Combustivel'] == 'FLEX'):\r\n",
                "            return vkt_flex(df['Ano'], ano_base)\r\n",
                "        elif(df['Combustivel'] == 'GASOLINA'):\r\n",
                "            return vkt_gasolina(df['Ano'], ano_base)\r\n",
                "        elif(df['Combustivel'] == 'ALCOOL'):\r\n",
                "            return vkt_alcool(df['Ano'], ano_base)\r\n",
                "        elif(df['Combustivel'] == 'DIESEL'):\r\n",
                "            return vkt_util_diesel(df['Ano'], ano_base)\r\n",
                "    elif(df['Tipo'] in ['UTILITARIO', 'CAMIONETA']):\r\n",
                "        if(df['Combustivel'] == 'GASOLINA'):\r\n",
                "            return vkt_util_gasolina(df['Ano'], ano_base)\r\n",
                "        elif(df['Combustivel'] == 'FLEX'):\r\n",
                "            return vkt_util_flex(df['Ano'], ano_base)\r\n",
                "        elif(df['Combustivel'] == 'DIESEL'):\r\n",
                "            return vkt_util_diesel(df['Ano'], ano_base)\r\n",
                "        elif(df['Combustivel'] == 'ALCOOL'):\r\n",
                "            return vkt_alcool(df['Ano'], ano_base)\r\n",
                "    elif(df['Tipo'] == 'CAMINHAO'):\r\n",
                "        return vkt_caminhao(df['Ano'], ano_base)\r\n",
                "    elif(df['Tipo'] == 'CAMINHONETE'):\r\n",
                "        return vkt_caminhonete(df['Ano'], ano_base)\r\n",
                "    elif(df['Tipo'] == 'ONIBUS'):\r\n",
                "        return vkt_onibus(df['Ano'], ano_base)\r\n",
                "    elif(df['Tipo'] == 'MICROONIBUS'):\r\n",
                "        return vkt_microonibus(df['Ano'], ano_base)\r\n",
                "    elif(df['Tipo'] == 'CAMINHAO TRATOR'):\r\n",
                "        return vkt_caminhao_trator(df['Ano'], ano_base)\r\n",
                "    elif(df['Tipo'] in ['MOTOCICLETA', 'CICLOMOTOR', 'TRICICLO', 'QUADRICICLO']):\r\n",
                "        return vkt_motociclo(df['Ano'], ano_base)\r\n",
                "    elif(df['Tipo'] == 'MOTONETA'):\r\n",
                "        return vkt_motoneta(df['Ano'], ano_base)\r\n",
                "    else:\r\n",
                "        return np.nan"
            ],
            "outputs": [],
            "metadata": {}
        },
        {
            "cell_type": "markdown",
            "source": [
                "vkt_gasolina  \r\n",
                "Modelo ajustado para a intensidade de uso dos automóveis e derivados a gasolina (quilometragem média anual segundo a idade)\r\n",
                "\r\n",
                "Como parâmetros, são necessários o ano de fabricação do veículo e o ano de referência ao qual o VKT deverá ser calculado."
            ],
            "metadata": {}
        },
        {
            "cell_type": "code",
            "execution_count": null,
            "source": [
                "def vkt_gasolina (ano_fab, ano_base):\r\n",
                "    idade = ano_base - ano_fab\r\n",
                "    if (idade > 40):\r\n",
                "        return 6174\r\n",
                "    else:\r\n",
                "        return (0.6716*(idade**3) - 49.566*(idade**2) + 779.66*idade + 11266)"
            ],
            "outputs": [],
            "metadata": {}
        },
        {
            "cell_type": "markdown",
            "source": [
                "vkt_alcool  \r\n",
                "Modelo ajustado para a intensidade de uso dos automóveis e derivados a etanol (quilometragem média por ano segundo a idade)\r\n",
                "\r\n",
                "Como parâmetros, são necessários o ano de fabricação do veículo e o ano de referência ao qual o VKT deverá ser calculado."
            ],
            "metadata": {}
        },
        {
            "cell_type": "code",
            "execution_count": null,
            "source": [
                "def vkt_alcool (ano_fab, ano_base):\r\n",
                "    idade = ano_base - ano_fab\r\n",
                "    if (idade > 28):\r\n",
                "        return 8275\r\n",
                "    else:\r\n",
                "        return (-3.292*(idade**3) + 174.31*(idade**2) - 3083.6*idade + 31628)"
            ],
            "outputs": [],
            "metadata": {}
        },
        {
            "cell_type": "markdown",
            "source": [
                "vkt_flex  \r\n",
                "Modelo ajustado para a intensidade de uso dos automóveis e derivados flex (quilometragem média por ano segundo a idade).\r\n",
                "\r\n",
                "Como parâmetros, são necessários o ano de fabricação do veículo e o ano de referência ao qual o VKT deverá ser calculado."
            ],
            "metadata": {}
        },
        {
            "cell_type": "code",
            "execution_count": null,
            "source": [
                "def vkt_flex (ano_fab, ano_base):\r\n",
                "    idade = ano_base - ano_fab\r\n",
                "    if(idade > 10):\r\n",
                "        return np.nan\r\n",
                "    elif(idade > 8):\r\n",
                "        return 15000\r\n",
                "    elif(idade == 1):\r\n",
                "        return 17220\r\n",
                "    else:\r\n",
                "        return (-24.288*(idade**3) + 426.19*(idade**2) - 2360.4*idade + 19178)"
            ],
            "outputs": [],
            "metadata": {}
        },
        {
            "cell_type": "markdown",
            "source": [
                "vkt_util_gasolina  \r\n",
                "Modelo ajustado para a intensidade de uso dos utilitários Otto a gasolina (quilometragem média por ano segundo a idade).\r\n",
                "\r\n",
                "Como parâmetros, são necessários o ano de fabricação do veículo e o ano de referência ao qual o VKT deverá ser calculado."
            ],
            "metadata": {}
        },
        {
            "cell_type": "code",
            "execution_count": null,
            "source": [
                "def vkt_util_gasolina (ano_fab, ano_base):\r\n",
                "    idade = ano_base - ano_fab\r\n",
                "    if (idade > 36):\r\n",
                "        return 7862\r\n",
                "    else:\r\n",
                "        return (0.3623*(idade**3) - 13.828*(idade**2)- 255.77*idade + 18202)"
            ],
            "outputs": [],
            "metadata": {}
        },
        {
            "cell_type": "markdown",
            "source": [
                "vkt_util_flex  \r\n",
                "Modelo ajustado para a intensidade de uso dos utilitários Otto flex (quilometragem média por ano segundo a idade).\r\n",
                "\r\n",
                "Como parâmetros, são necessários o ano de fabricação do veículo e o ano de referência ao qual o VKT deverá ser calculado."
            ],
            "metadata": {}
        },
        {
            "cell_type": "code",
            "execution_count": null,
            "source": [
                "def vkt_util_flex (ano_fab, ano_base):\r\n",
                "    idade = ano_base - ano_fab\r\n",
                "    if (idade > 36):\r\n",
                "        return 7862\r\n",
                "    else:\r\n",
                "        return (107.39*(idade**3) - 1687.3*(idade**2) + 7200.5*idade + 12599)"
            ],
            "outputs": [],
            "metadata": {}
        },
        {
            "cell_type": "markdown",
            "source": [
                "vkt_caminhao  \r\n",
                "Modelo ajustado para a intensidade de uso dos caminhões diesel (quilometragem média por ano segundo a idade).\r\n",
                "\r\n",
                "Como parâmetros, são necessários o ano de fabricação do veículo e o ano de referência ao qual o VKT deverá ser calculado."
            ],
            "metadata": {}
        },
        {
            "cell_type": "code",
            "execution_count": null,
            "source": [
                "def vkt_caminhao (ano_fab, ano_base):\r\n",
                "    idade = ano_base - ano_fab\r\n",
                "    if(idade > 60):\r\n",
                "        return np.nan\r\n",
                "    elif(idade > 40):\r\n",
                "        return 21804\r\n",
                "    else:\r\n",
                "        return (0.0774*(idade**4) - 7.3952*(idade**3) + 249.38*(idade**2) - 3664*idade + 44505)"
            ],
            "outputs": [],
            "metadata": {}
        },
        {
            "cell_type": "markdown",
            "source": [
                "vkt_caminhonete  \r\n",
                "Modelo ajustado para a intensidade de uso das Caminhonetes diesel (quilometragem média por ano segundo a idade).\r\n",
                "\r\n",
                "Como parâmetros, são necessários o ano de fabricação do veículo e o ano de referência ao qual o VKT deverá ser calculado."
            ],
            "metadata": {}
        },
        {
            "cell_type": "code",
            "execution_count": null,
            "source": [
                "def vkt_caminhonete (ano_fab, ano_base):\r\n",
                "    idade = ano_base - ano_fab\r\n",
                "    if (idade > 10):\r\n",
                "        return 15950\r\n",
                "    else:\r\n",
                "        return (-10.399*(idade**3) + 86.398*(idade**2) - 1271.3*idade + 29638)"
            ],
            "outputs": [],
            "metadata": {}
        },
        {
            "cell_type": "markdown",
            "source": [
                "vkt_onibus  \r\n",
                "Modelo ajustado para a intensidade de uso dos ônibus urbanos diesel (quilometragem média por ano segundo a idade).\r\n",
                "\r\n",
                "Como parâmetros, são necessários o ano de fabricação do veículo e o ano de referência ao qual o VKT deverá ser calculado."
            ],
            "metadata": {}
        },
        {
            "cell_type": "code",
            "execution_count": null,
            "source": [
                "def vkt_onibus (ano_fab, ano_base):\r\n",
                "    idade = ano_base - ano_fab\r\n",
                "    if (idade > 15):\r\n",
                "        return 64108*math.exp(-0.046*idade)\r\n",
                "    else:\r\n",
                "        return (-8.8551*(idade**3) + 263.41*(idade**2) - 4219.4*idade + 66435)"
            ],
            "outputs": [],
            "metadata": {}
        },
        {
            "cell_type": "markdown",
            "source": [
                "vkt_util_diesel  \r\n",
                "Modelo ajustado para a intensidade de uso dos utilitários leves diesel (quilometragem média por ano segundo a idade).\r\n",
                "\r\n",
                "Como parâmetros, são necessários o ano de fabricação do veículo e o ano de referência ao qual o VKT deverá ser calculado."
            ],
            "metadata": {}
        },
        {
            "cell_type": "code",
            "execution_count": null,
            "source": [
                "def vkt_util_diesel (ano_fab, ano_base):\r\n",
                "    idade = ano_base - ano_fab\r\n",
                "    if(idade > 8):\r\n",
                "        return 13040\r\n",
                "    else:\r\n",
                "        return (-64.592*(idade**3) + 720.31*(idade**2) - 2280.8*idade + 19242)"
            ],
            "outputs": [],
            "metadata": {}
        },
        {
            "cell_type": "markdown",
            "source": [
                "vkt_microonibus  \r\n",
                "Modelo ajustado para a intensidade de uso dos micro-ônibus diesel.\r\n",
                "\r\n",
                "Como parâmetros, são necessários o ano de fabricação do veículo e o ano de referência ao qual o VKT deverá ser calculado.\r\n",
                "\r\n",
                "Como não existe log(0) foi feito um ajuste para o ano 0, considerando log(0)=0 em observação ao gráfico."
            ],
            "metadata": {}
        },
        {
            "cell_type": "code",
            "execution_count": null,
            "source": [
                "def vkt_microonibus (ano_fab, ano_base):\r\n",
                "    idade = ano_base - ano_fab\r\n",
                "    #Realizado ajuste para idade == 0\r\n",
                "    if (idade > 15):\r\n",
                "        return 18680\r\n",
                "    elif (idade == 0):\r\n",
                "        return 35578\r\n",
                "    else:\r\n",
                "        return (-5661*(math.log(idade)) + 35578)"
            ],
            "outputs": [],
            "metadata": {}
        },
        {
            "cell_type": "markdown",
            "source": [
                "vkt_caminhao_trator  \r\n",
                "Modelo ajustado para a intensidade de uso dos caminhões-trator (quilometragem média por ano segundo a idade).\r\n",
                "\r\n",
                "Como parâmetros, são necessários o ano de fabricação do veículo e o ano de referência ao qual o VKT deverá ser calculado."
            ],
            "metadata": {}
        },
        {
            "cell_type": "code",
            "execution_count": null,
            "source": [
                "def vkt_caminhao_trator (ano_fab, ano_base):\r\n",
                "    idade = ano_base - ano_fab\r\n",
                "    if(idade > 52):\r\n",
                "        return np.nan\r\n",
                "    else:\r\n",
                "        return (-1023.7*idade + 57247)"
            ],
            "outputs": [],
            "metadata": {}
        },
        {
            "cell_type": "markdown",
            "source": [
                "vkt_motociclo  \r\n",
                "Modelo ajustado para a intensidade de uso de motociclos (quilometragem média segundo a idade). Para os fins deste trabalho foram considerados como motociclos os veículos de tipo Motocicleta, Ciclomotor, Triciclo e Quadriciclo.\r\n",
                "\r\n",
                "Como parâmetros, são necessários o ano de fabricação do veículo e o ano de referência ao qual o VKT deverá ser calculado."
            ],
            "metadata": {}
        },
        {
            "cell_type": "code",
            "execution_count": null,
            "source": [
                "def vkt_motociclo (ano_fab, ano_base):\r\n",
                "    idade = ano_base - ano_fab\r\n",
                "    if (idade > 17):\r\n",
                "        return 9050\r\n",
                "    else:\r\n",
                "        return (1.3392*(idade**3) - 60.492*(idade**2) + 442.92*idade + 12423)"
            ],
            "outputs": [],
            "metadata": {}
        },
        {
            "cell_type": "markdown",
            "source": [
                "vkt_motoneta  \r\n",
                "Modelo ajustado para a intensidade de uso de motonetas (quilometragem média por ano segundo a idade).\r\n",
                "\r\n",
                "Como parâmetros, são necessários o ano de fabricação do veículo e o ano de referência ao qual o VKT deverá ser calculado."
            ],
            "metadata": {}
        },
        {
            "cell_type": "code",
            "execution_count": null,
            "source": [
                "def vkt_motoneta (ano_fab, ano_base):\r\n",
                "    idade = ano_base - ano_fab\r\n",
                "    if (idade > 10):\r\n",
                "        return (951491.4958*(idade**(-1.9209)))\r\n",
                "    else:\r\n",
                "        return (-35.147*(idade**3) + 620.87*(idade**2) - 2970.3*idade + 11431)"
            ],
            "outputs": [],
            "metadata": {}
        },
        {
            "cell_type": "markdown",
            "source": [
                "get_close_model  \r\n",
                "Função procura, inicialmente, se há um automóvel da base DENATRAN com nome exatamente igual à base iCarros. Se não há, busca, através da função get_close_matches, o modelo cujo nome mais se aproxima. Ressalta-se que é realizado um processo de segmentação do modelo para aumentar a probabilidade de resultado, mas há resultados não muito adequados. Sugere-se aumentar o cutoff e realizar um aprofundamento na análise entre os resultados encontrados e os nomes originais.\r\n",
                "\r\n",
                "Exemplo de como o algoritimo trabalha\r\n",
                "Marca/Modelo 'FIAT/ARGO DRIVE 1.3'\r\n",
                "\r\n",
                "Primeiramente, separa marca do modelo\r\n",
                "Marca 'FIAT'\r\n",
                "Modelo 'ARGO DRIVE 1.3'\r\n",
                "\r\n",
                "Na sequência, subdivide o modelo em no máximo 3 utilizando o espaço como delimitador\r\n",
                "Modelo_A 'ARGO'\r\n",
                "Modelo_B 'DRIVE'\r\n",
                "Modelo_C '1.3'\r\n",
                "\r\n",
                "Posteriormente, compara individualmente o Modelo_A, Modelo_B e Modelo_C do df_denatran com o Modelo_A a base do iCarros."
            ],
            "metadata": {}
        },
        {
            "cell_type": "code",
            "execution_count": null,
            "source": [
                "def get_close_model (df_denatran):\r\n",
                "    model = df_marca_modelo5[df_denatran == df_marca_modelo5['Modelo_A']].head(1)\r\n",
                "\r\n",
                "    if(len(model) > 0):\r\n",
                "        return model['Modelo_A'].item()\r\n",
                "\r\n",
                "    model = get_close_matches(df_denatran, df_marca_modelo5['Modelo_A'], n=1, cutoff=0.7)\r\n",
                "\r\n",
                "    if(len(model) > 0):\r\n",
                "        return model[0]\r\n",
                "    else:\r\n",
                "        return np.nan"
            ],
            "outputs": [],
            "metadata": {}
        },
        {
            "cell_type": "markdown",
            "source": [
                "get_comb  \r\n",
                "Função compara os parâmetros de consumo que o algoritmo identificou previamente adotando-se, sempre que existir, na seguinte ordem: Consumo[]_A, Consumo[]_B ou Consumo[]_C"
            ],
            "metadata": {}
        },
        {
            "cell_type": "code",
            "execution_count": null,
            "source": [
                "def get_comb (df_denatran):\r\n",
                "    gasolina = np.nan\r\n",
                "    alcool = np.nan\r\n",
                "    diesel = np.nan\r\n",
                "\r\n",
                "    if((np.isnan(df_denatran['Consumo_Cidade_Gasolina_A'])) & (np.isnan(df_denatran['Consumo_Cidade_Gasolina_B'])) & (np.isnan(df_denatran['Consumo_Cidade_Gasolina_C'])) & (np.isnan(df_denatran['Consumo_Cidade_Alcool_A'])) & (np.isnan(df_denatran['Consumo_Cidade_Alcool_B'])) & (np.isnan(df_denatran['Consumo_Cidade_Alcool_C']))):\r\n",
                "        return [gasolina, alcool, diesel]\r\n",
                "\r\n",
                "    if((~np.isnan(df_denatran['Consumo_Cidade_Gasolina_A'])) & (df_denatran['Combustivel_Gasolina_A'] == 'Gasolina')):\r\n",
                "        gasolina = df_denatran['Consumo_Cidade_Gasolina_A']\r\n",
                "    elif((~np.isnan(df_denatran['Consumo_Cidade_Gasolina_B'])) & (df_denatran['Combustivel_Gasolina_B'] == 'Gasolina')):\r\n",
                "        gasolina = df_denatran['Consumo_Cidade_Gasolina_B']\r\n",
                "    elif((~np.isnan(df_denatran['Consumo_Cidade_Gasolina_C'])) & (df_denatran['Combustivel_Gasolina_C'] == 'Gasolina')):\r\n",
                "        gasolina = df_denatran['Consumo_Cidade_Gasolina_C']\r\n",
                "\r\n",
                "    if((~np.isnan(df_denatran['Consumo_Cidade_Alcool_A'])) & (df_denatran['Combustivel_Alcool_A'] == 'Alcool')):\r\n",
                "        alcool = df_denatran['Consumo_Cidade_Alcool_A']\r\n",
                "    elif((~np.isnan(df_denatran['Consumo_Cidade_Alcool_B'])) & (df_denatran['Combustivel_Alcool_B'] == 'Alcool')):\r\n",
                "        alcool = df_denatran['Consumo_Cidade_Alcool_B']\r\n",
                "    elif((~np.isnan(df_denatran['Consumo_Cidade_Alcool_C'])) & (df_denatran['Combustivel_Alcool_C'] == 'Alcool')):\r\n",
                "        alcool = df_denatran['Consumo_Cidade_Alcool_C']\r\n",
                "\r\n",
                "    if((~np.isnan(df_denatran['Consumo_Cidade_Gasolina_A'])) & (df_denatran['Combustivel_Gasolina_A'] == 'Alcool')):\r\n",
                "        alcool = df_denatran['Consumo_Cidade_Gasolina_A']\r\n",
                "    elif((~np.isnan(df_denatran['Consumo_Cidade_Gasolina_B'])) & (df_denatran['Combustivel_Gasolina_B'] == 'Alcool')):\r\n",
                "        alcool = df_denatran['Consumo_Cidade_Gasolina_B']\r\n",
                "    elif((~np.isnan(df_denatran['Consumo_Cidade_Gasolina_C'])) & (df_denatran['Combustivel_Gasolina_C'] == 'Alcool')):\r\n",
                "        alcool = df_denatran['Consumo_Cidade_Gasolina_C']\r\n",
                "\r\n",
                "    if((~np.isnan(df_denatran['Consumo_Cidade_Alcool_A'])) & (df_denatran['Combustivel_Alcool_A'] == 'Gasolina')):\r\n",
                "        gasolina = df_denatran['Consumo_Cidade_Alcool_A']\r\n",
                "    elif((~np.isnan(df_denatran['Consumo_Cidade_Alcool_B'])) & (df_denatran['Combustivel_Alcool_B'] == 'Gasolina')):\r\n",
                "        gasolina = df_denatran['Consumo_Cidade_Alcool_B']\r\n",
                "    elif((~np.isnan(df_denatran['Consumo_Cidade_Alcool_C'])) & (df_denatran['Combustivel_Alcool_C'] == 'Gasolina')):\r\n",
                "        gasolina = df_denatran['Consumo_Cidade_Alcool_C']\r\n",
                "\r\n",
                "    if((~np.isnan(df_denatran['Consumo_Cidade_Gasolina_A'])) & (df_denatran['Combustivel_Gasolina_A'] == 'Diesel')):\r\n",
                "        diesel = df_denatran['Consumo_Cidade_Gasolina_A']\r\n",
                "    elif((~np.isnan(df_denatran['Consumo_Cidade_Gasolina_B'])) & (df_denatran['Combustivel_Gasolina_B'] == 'Diesel')):\r\n",
                "        diesel = df_denatran['Consumo_Cidade_Gasolina_B']\r\n",
                "    elif((~np.isnan(df_denatran['Consumo_Cidade_Gasolina_C'])) & (df_denatran['Combustivel_Gasolina_C'] == 'Diesel')):\r\n",
                "        diesel = df_denatran['Consumo_Cidade_Gasolina_C']\r\n",
                "\r\n",
                "    if((~np.isnan(df_denatran['Consumo_Cidade_Alcool_A'])) & (df_denatran['Combustivel_Alcool_A'] == 'Diesel')):\r\n",
                "        diesel = df_denatran['Consumo_Cidade_Alcool_A']\r\n",
                "    elif((~np.isnan(df_denatran['Consumo_Cidade_Alcool_B'])) & (df_denatran['Combustivel_Alcool_B'] == 'Diesel')):\r\n",
                "        diesel = df_denatran['Consumo_Cidade_Alcool_B']\r\n",
                "    elif((~np.isnan(df_denatran['Consumo_Cidade_Alcool_C'])) & (df_denatran['Combustivel_Alcool_C'] == 'Diesel')):\r\n",
                "        diesel = df_denatran['Consumo_Cidade_Alcool_C']\r\n",
                "\r\n",
                "    return [gasolina, alcool, diesel]"
            ],
            "outputs": [],
            "metadata": {}
        },
        {
            "cell_type": "markdown",
            "source": [
                "get_consumo  \r\n",
                "Função procura, para os que não identificou previamente, seus respectivos fatores de consumo conforme base da CETESB (2019) de acordo com tipo de veículo. Caso encontre mais de um fator, realiza média simples e retorna esse valor. CETESB (2019) utiliza o termo \"autonomia\" para se referir ao aqui utilizado \"fator de consumo\".\r\n",
                "\r\n",
                "CETESB. Emissões veiculares no estado de São Paulo 2019. São Paulo, SP, 2019. 140 p. (Série Relatórios). Disponível em: < https://cetesb.sp.gov.br/veicular/wp-content/uploads/sites/6/2020/11/Relatorio-Emissoes-Veiculares-no-Estado-de-Sao-Paulo-2019.pdf >. Acesso em: 18 jun. 2021."
            ],
            "metadata": {}
        },
        {
            "cell_type": "code",
            "execution_count": null,
            "source": [
                "def get_consumo(comb, df):\r\n",
                "    ano = df['Ano']\r\n",
                "    consumo = []\r\n",
                "\r\n",
                "    if((comb not in df['Combustivel']) & (df['Combustivel'] != 'FLEX')):\r\n",
                "        return np.nan\r\n",
                "\r\n",
                "    elif((df['Tipo'] in ['AUTOMOVEL', 'UTILITARIO', 'CAMINHONETE', 'CAMIONETA']) & (comb in ['FLEX', 'ALCOOL', 'GASOLINA'])):\r\n",
                "        if(ano < 1982):\r\n",
                "            ano = 1982\r\n",
                "\r\n",
                "        consumo = df_base_consumo[(df_base_consumo['Tipo'] == 'AUTOMOVEL') & (df_base_consumo['Ano'] == ano) & (df_base_consumo['Combustivel'].str.contains(comb))]['Consumo']\r\n",
                "\r\n",
                "    elif((df['Tipo'] in ['AUTOMOVEL', 'UTILITARIO', 'CAMINHONETE', 'CAMIONETA']) & (comb == 'DIESEL')):\r\n",
                "        if(ano < 1999):\r\n",
                "            ano = 1999\r\n",
                "\r\n",
                "        consumo = df_base_consumo[(df_base_consumo['Tipo'] == 'CAMINHAO') & (df_base_consumo['Subtipo'] == 'SEMILEVES') & (df_base_consumo['Ano'] == ano) & (df_base_consumo['Combustivel'].str.contains(comb))]['Consumo']\r\n",
                "\r\n",
                "    elif((df['Tipo'] == 'CAMINHAO') | (df['Tipo'] == 'CAMINHAO TRATOR')):\r\n",
                "        if(ano < 1999):\r\n",
                "            ano = 1999\r\n",
                "\r\n",
                "        consumo = df_base_consumo[(df_base_consumo['Tipo'] == 'CAMINHAO') & (df_base_consumo['Ano'] == ano) & (df_base_consumo['Combustivel'].str.contains(comb))]['Consumo']\r\n",
                "        #print(consumo)\r\n",
                "\r\n",
                "    elif(df['Tipo'] == 'CICLOMOTOR'):\r\n",
                "        consumo = df_base_consumo[(df_base_consumo['Tipo'] == 'CICLOMOTOR') & (df_base_consumo['Ano'] == ano) & (df_base_consumo['Combustivel'].str.contains(comb))]['Consumo']        \r\n",
                "\r\n",
                "    elif(df['Tipo'] in ['MOTOCICLETA', 'MOTONETA', 'QUADRICICLO', 'TRICICLO']):\r\n",
                "        consumo = df_base_consumo[(df_base_consumo['Tipo'] == 'MOTOCICLETA') & (df_base_consumo['Ano'] == ano) & (df_base_consumo['Combustivel'].str.contains(comb))]['Consumo']        \r\n",
                "\r\n",
                "    elif(df['Tipo'] == 'MICROONIBUS'):\r\n",
                "        if(ano < 1999):\r\n",
                "            ano = 1999\r\n",
                "\r\n",
                "        consumo = df_base_consumo[(df_base_consumo['Subtipo'] == 'MICROONIBUS') & (df_base_consumo['Ano'] == ano) & (df_base_consumo['Combustivel'].str.contains(comb))]['Consumo']        \r\n",
                "\r\n",
                "    elif(df['Tipo'] == 'ONIBUS'):\r\n",
                "        if(ano < 1999):\r\n",
                "            ano = 1999\r\n",
                "            \r\n",
                "        consumo = df_base_consumo[(df_base_consumo['Tipo'] == 'ONIBUS') & (df_base_consumo['Subtipo'] != 'MICROONIBUS') & (df_base_consumo['Ano'] == ano) & (df_base_consumo['Combustivel'].str.contains(comb))]['Consumo']        \r\n",
                "\r\n",
                "    if (len(consumo) == 0):\r\n",
                "        consumo = np.nan\r\n",
                "    else:\r\n",
                "        consumo = consumo.mean()\r\n",
                "\r\n",
                "    return consumo"
            ],
            "outputs": [],
            "metadata": {}
        },
        {
            "cell_type": "markdown",
            "source": [
                "get_sucat  \r\n",
                "Função realiza a conversão entre a frota licenciada e a frota circulante, através da aplicação das curvas de sucateamento. Destaque para a curva de sucateamento de motos, que foi adaptada através da leitura do gráfico da publicação por não estar efetivamente descrita.\r\n",
                "\r\n",
                "BRASIL. Ministério do Meio Ambiente (MMA). 1º Inventário nacional de emissões atmosféricas por veículos automotores rodoviários: relatório final. Brasília, 2011. Disponível em: <https://antigo.mma.gov.br/images/arquivo/80060/Inventario_de_Emissoes_por_Veiculos_Rodoviarios_2013.pdf>. Acesso em: 18 jun. 2021."
            ],
            "metadata": {}
        },
        {
            "cell_type": "code",
            "execution_count": null,
            "source": [
                "def get_sucat (df, ano_base):\r\n",
                "    idade = ano_base - df['Ano']\r\n",
                "\r\n",
                "    if((df['Tipo'] == 'AUTOMOVEL') & (df['Combustivel'] != 'DIESEL')):\r\n",
                "        return ((1-math.exp(-math.exp(1.798+(-0.137*idade))))*df['Quantidade'])\r\n",
                "    \r\n",
                "    elif((df['Tipo'] in ['UTILITARIO', 'CAMIONETA']) & (df['Combustivel'] != 'DIESEL')):\r\n",
                "        return ((1-math.exp(-math.exp(1.618+(-0.141*idade))))*df['Quantidade'])\r\n",
                "\r\n",
                "    elif((df['Tipo'] in ['AUTOMOVEL', 'UTILITARIO', 'CAMIONETA']) & (df['Combustivel'] == 'DIESEL')):\r\n",
                "        return (((1/(1+math.exp(0.17*(idade-15.3))))+(1/(1+math.exp(0.17*(idade+15.3)))))*df['Quantidade'])\r\n",
                "\r\n",
                "    elif((df['Tipo'] in ['CAMINHAO', 'CAMINHONETE', 'CAMINHAO TRATOR']) & (df['Combustivel'] == 'DIESEL')):\r\n",
                "        return (((1/(1+math.exp(0.10*(idade-17))))+(1/(1+math.exp(0.10*(idade+17)))))*df['Quantidade'])\r\n",
                "\r\n",
                "    elif((df['Tipo'] in ['ONIBUS', 'MICROONIBUS']) & (df['Combustivel'] == 'DIESEL')):\r\n",
                "        return (((1/(1+math.exp(0.16*(idade-19.1))))+(1/(1+math.exp(0.16*(idade+19.1)))))*df['Quantidade'])\r\n",
                "\r\n",
                "    elif(df['Tipo'] in ['MOTOCICLETA', 'CICLOMOTOR', 'TRICICLO', 'QUADRICICLO', 'MOTONETA']):\r\n",
                "        return (math.exp(-0.085*idade)*df['Quantidade'])\r\n",
                "\r\n",
                "    return np.nan"
            ],
            "outputs": [],
            "metadata": {}
        },
        {
            "cell_type": "markdown",
            "source": [
                "Por questões relacionadas à ausência de infraestrutura em nuvem para armazenamento e simplificação do processo, optou-se por salvar o resultado do algoritmo em um arquivo CSV. Por uma questão capacidade de armazenamento em memória RAM de informações dos computadores disponíveis, foi necessário subdividir o processo em subprocessos, salvando o dataframe a cada etapa. De qualquer maneira, a partir deste ponto inicia-se o efetivo cálculo do VKT.\r\n",
                "\r\n",
                "vkt_fase1  \r\n",
                "Como parâmetros, são necessários ano de referência ao qual o VKT deverá ser calculado, bem como a versão. A versão apenas implicará no nome do arquivo final a ser gerado, já o ano terá implicações nas curvas de sucateamento e de intensidade de uso."
            ],
            "metadata": {}
        },
        {
            "cell_type": "code",
            "execution_count": null,
            "source": [
                "def vkt_fase1 (ano, versao):\r\n",
                "    #Dataframe de Regiões Metropolitanas (df_rms)\r\n",
                "    df_rms = pd.read_csv('datasets/rms_rev02.csv')\r\n",
                "\r\n",
                "    #Dataframe da base de classificação de veículos do DENATRAN (df_base_class_denatran)\r\n",
                "    df_base_class_denatran = pd.read_csv('datasets/base_denatran_classificacao.csv')\r\n",
                "\r\n",
                "    #Dataframe da base de veículos por UF, Município, Marca/Modelo e Ano do DENATRAN (df_denatran)\r\n",
                "    df_denatran = pd.read_csv('datasets/{}/I_Frota_por_UF_Municipio_Marca_e_Modelo_Ano_Dezembro_{}.txt'.format(ano, ano), sep=';')\r\n",
                "    print(df_denatran)\r\n",
                "\r\n",
                "    #Renomeia as colunas para retirada de acentuação, espaços e caracteres especiais\r\n",
                "    df_denatran.rename(columns={'Município': 'Municipio', 'Marca Modelo': 'Marca_Modelo', 'Ano Fabricação Veículo CRV': 'Ano', 'Qtd. Veículos': 'Quantidade'}, inplace = True)\r\n",
                "\r\n",
                "    #Aplicação do filtro no df_denatran para apenas os municípios que compõem as regiões metropolitanas, conforme df_rms\r\n",
                "    #Nota: Para as capitais que não compõem nenhuma RM, foi incluída apenas a capital no df_rms\r\n",
                "    df_denatran = df_denatran[df_denatran[['UF', 'Municipio']].apply(tuple, axis=1).isin(df_rms[['UF','Municipio']].apply(tuple, axis=1))]\r\n",
                "\r\n",
                "    #Realização do merge do df_denatran com o df_rms, incluindo a RM e a capital correspondente a cada linha\r\n",
                "    df_denatran = pd.merge(df_denatran, df_rms[['Municipio', 'UF', 'RM', 'Capital']], on=['Municipio', 'UF'], how='left')\r\n",
                "\r\n",
                "    #Tramento inicial do df_denatran\r\n",
                "    #Retira as linhas com a coluna df_denatran['Ano'] que não sejam numéricas (ex.: 'Não informado')\r\n",
                "    df_denatran = df_denatran[df_denatran['Ano'].map(lambda x: x.isnumeric())]\r\n",
                "    #Converte a coluna df_denatran['Ano'] para números inteiros\r\n",
                "    df_denatran['Ano'] = df_denatran['Ano'].astype(np.int64)\r\n",
                "    #Converte a coluna df_denatran['Marca_Modelo'] para string\r\n",
                "    df_denatran['Marca_Modelo'] = df_denatran['Marca_Modelo'].convert_dtypes()\r\n",
                "    df_denatran['Marca_Modelo'] = df_denatran['Marca_Modelo'].astype(str)\r\n",
                "\r\n",
                "    #Tramento inicial do df_base_class_denatran\r\n",
                "    #Converte a coluna df_base_class_denatran['Ano'] para números inteiros\r\n",
                "    df_base_class_denatran['Ano'] = df_base_class_denatran['Ano'].astype(np.int64)\r\n",
                "    #Converte a coluna df_base_class_denatran['Marca_Modelo'] para string\r\n",
                "    df_base_class_denatran['Marca_Modelo'] = df_base_class_denatran['Marca_Modelo'].convert_dtypes()\r\n",
                "    df_base_class_denatran['Marca_Modelo'] = df_base_class_denatran['Marca_Modelo'].astype(str)\r\n",
                "    #Remove df_base_class_denatran['Marca_Modelo', 'Ano'] duplicados\r\n",
                "    #Nota: Este dataset já está organizado em ordem decrescente de quantidade. A função drop_duplicates mantém o primeiro registro (com maior quantidade) e elimina os demais. Pode haver erro na classificação dos veículos, mas sempre é adotado o mais provável (por ter mais veículos) no dataset. Isso influencia nas curvas de intensidade e no fator de ajuste, em razão do tipo de combustível e o tipo de veículo\r\n",
                "    df_base_class_denatran = df_base_class_denatran.drop_duplicates(subset=['Marca_Modelo', 'Ano'])\r\n",
                "\r\n",
                "    #Realização do merge do df_denatran com o df_base_class_denatran, incluindo ['Tipo', 'Combustivel']\r\n",
                "    df_denatran = pd.merge(df_denatran, df_base_class_denatran[['Marca_Modelo', 'Ano', 'Tipo', 'Combustivel']], on=['Marca_Modelo', 'Ano'], how='left')\r\n",
                "    #Converte a coluna df_denatran['Tipo'] para string\r\n",
                "    df_denatran['Tipo'] = df_denatran['Tipo'].astype(str)\r\n",
                "\r\n",
                "    #Retira do df_denatran os veículos que não geram VKT através dos combustíveis utilizados para ajuste. Tipos ['BICICLETA', \t'BONDE', \t'CARRO DE MAO', \t'CARROCA', \t'CHARRETE', \t'CHASSI/PLATAFORMA', \t'MOTOR-CASA', \t'Não Identificado', \t'REBOQUE', \t'SEMI-REBOQUE', \t'SIDE-CAR', \t'Sem Informação', \t'TRATOR DE ESTEIRAS', \t'TRATOR DE RODAS', \t'TRATOR MISTO']\r\n",
                "    tipos_exc = ['BICICLETA', \t'BONDE', \t'CARRO DE MAO', \t'CARROCA', \t'CHARRETE', \t'CHASSI/PLATAFORMA', \t'MOTOR-CASA', \t'Não Identificado', \t'REBOQUE', \t'SEMI-REBOQUE', \t'SIDE-CAR', \t'Sem Informação', \t'TRATOR DE ESTEIRAS', \t'TRATOR DE RODAS', \t'TRATOR MISTO']\r\n",
                "    df_denatran = df_denatran[~df_denatran['Tipo'].isin(tipos_exc)]\r\n",
                "\r\n",
                "    #Reinicia o index do df_denatran\r\n",
                "    df_denatran.reset_index(drop=True, inplace=True)\r\n",
                "    #Subdivide Marca e Modelo do campo df_denatran['Marca_Modelo'] utilizando '/' como separador\r\n",
                "    df_denatran[['Marca','Modelo']] = df_denatran['Marca_Modelo'].str.split('/', n=1, expand=True)\r\n",
                "    #Retira do df_denatran os veículos que não geram VKT, ou não geram VKT relevante, através dos combustíveis utilizados para ajuste. Tipos ['SR', 'REB', 'R', 'MO', 'M.A.', 'MA', 'MR', 'M.AGRICOLA', 'SE', 'CASE', 'SRM', 'REBOQUE', 'F.PROPRIA']\r\n",
                "    marcas_exc = ['SR', 'REB', 'R', 'MO', 'M.A.', 'MA', 'MR', 'M.AGRICOLA', 'SE', 'CASE', 'SRM', 'REBOQUE', 'F.PROPRIA']\r\n",
                "    df_denatran = df_denatran[~df_denatran['Marca'].isin(marcas_exc)]\r\n",
                "    #Subdivide o campo df_denatran['Modelo'] em até 3 utilizando ' ' como separador\r\n",
                "    df_denatran[['Modelo_A','Modelo_B','Modelo_C']] = df_denatran['Modelo'].str.split(' ', n=2, expand=True)\r\n",
                "    #Retira do df_denatran os veículos sem Modelo_A (veículos que eventualmente só tinha a marca)\r\n",
                "    df_denatran = df_denatran[df_denatran['Modelo_A'].notnull()]\r\n",
                "\r\n",
                "    #Salva dataset\r\n",
                "    df_denatran.to_csv('datasets/{}/vkt_v{}.csv'.format(ano, versao), index=False)\r\n",
                "    return"
            ],
            "outputs": [],
            "metadata": {}
        },
        {
            "cell_type": "markdown",
            "source": [
                "vkt_fase2  \r\n",
                "Como parâmetros, são necessários ano de referência ao qual o VKT deverá ser calculado, bem como a versão. A versão apenas implicará no nome do arquivo final a ser gerado, já o ano terá implicações nas curvas de sucateamento e de intensidade de uso."
            ],
            "metadata": {}
        },
        {
            "cell_type": "code",
            "execution_count": null,
            "source": [
                "def vkt_fase2 (ano, versao):\r\n",
                "    #Abre o dataset salvo na etapa anterior\r\n",
                "    df_denatran = pd.read_csv('datasets/{}/vkt_v{}.csv'.format(ano, versao), low_memory=False)\r\n",
                "\r\n",
                "    tipos = ['AUTOMOVEL', 'CAMINHONETE', 'CAMIONETA', 'UTILITARIO']\r\n",
                "\r\n",
                "    #Realiza filtro dos veículos de tipo ['AUTOMOVEL', 'CAMINHONETE', 'CAMIONETA', 'UTILITARIO'] para o dataset df_denatran_modelos_[]\r\n",
                "    #Cria um novo dataset df_denatran_modelos_[]\r\n",
                "    df_denatran_modelos_a = df_denatran[df_denatran['Tipo'].isin(tipos)]\r\n",
                "    df_denatran_modelos_a = df_denatran_modelos_a.groupby(['Modelo_A', 'Tipo'])['Quantidade'].sum().sort_values(ascending=False)\r\n",
                "    df_denatran_modelos_b = df_denatran[df_denatran['Tipo'].isin(tipos)]\r\n",
                "    df_denatran_modelos_b = df_denatran_modelos_b.groupby(['Modelo_B', 'Tipo'])['Quantidade'].sum().sort_values(ascending=False)\r\n",
                "    df_denatran_modelos_c = df_denatran[df_denatran['Tipo'].isin(tipos)]\r\n",
                "    df_denatran_modelos_c = df_denatran_modelos_c.groupby(['Modelo_C', 'Tipo'])['Quantidade'].sum().sort_values(ascending=False)\r\n",
                "    df_denatran_modelos_a = df_denatran_modelos_a[df_denatran_modelos_a > np.percentile(df_denatran_modelos_a,95)]\r\n",
                "    df_denatran_modelos_b = df_denatran_modelos_b[df_denatran_modelos_b > np.percentile(df_denatran_modelos_b,95)]\r\n",
                "    df_denatran_modelos_c = df_denatran_modelos_c[df_denatran_modelos_c > np.percentile(df_denatran_modelos_c,95)]\r\n",
                "\r\n",
                "    df_denatran_modelos_a = df_denatran_modelos_a.reset_index()\r\n",
                "    df_denatran_modelos_b = df_denatran_modelos_b.reset_index()\r\n",
                "    df_denatran_modelos_c = df_denatran_modelos_c.reset_index()\r\n",
                "\r\n",
                "    df_denatran_modelos_a['Modelo_iCarros_A'] = df_denatran_modelos_a['Modelo_A'].map(lambda x: get_close_model(x))\r\n",
                "    df_denatran_modelos_b['Modelo_iCarros_B'] = df_denatran_modelos_b['Modelo_B'].map(lambda x: get_close_model(x))\r\n",
                "    df_denatran_modelos_c['Modelo_iCarros_C'] = df_denatran_modelos_c['Modelo_C'].map(lambda x: get_close_model(x))\r\n",
                "    \r\n",
                "    df_denatran = pd.merge(df_denatran, df_denatran_modelos_a[['Modelo_A', 'Modelo_iCarros_A']], on='Modelo_A', how='left')\r\n",
                "    df_denatran = pd.merge(df_denatran, df_denatran_modelos_b[['Modelo_B', 'Modelo_iCarros_B']], on='Modelo_B', how='left')\r\n",
                "    df_denatran = pd.merge(df_denatran, df_denatran_modelos_c[['Modelo_C', 'Modelo_iCarros_C']], on='Modelo_C', how='left')\r\n",
                "\r\n",
                "    df_denatran.to_csv('datasets/{}/vkt_v{}.csv'.format(ano, versao), index=False)\r\n",
                "    return"
            ],
            "outputs": [],
            "metadata": {}
        }
    ],
    "metadata": {
        "orig_nbformat": 4,
        "language_info": {
            "name": "python"
        }
    },
    "nbformat": 4,
    "nbformat_minor": 2
}