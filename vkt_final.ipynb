{
    "cells": [
        {
            "cell_type": "markdown",
            "source": [
                "Importação de bibliotecas  \r\n",
                "pandas - Análise de datasets  \r\n",
                "numpy - Funções de tipos de variáveis, variável np.nan e funções estatísticas (np.percentile)  \r\n",
                "math - Funções matemáticas, como exponencial, logarítimica e outras  \r\n",
                "unidecode - Retirada de acentuação de palavras  \r\n",
                "get_close_matches - Comparação aproximada entre strings  "
            ],
            "metadata": {}
        },
        {
            "cell_type": "code",
            "execution_count": null,
            "source": [
                "import pandas as pd\r\n",
                "import numpy as np\r\n",
                "import math\r\n",
                "from unidecode import unidecode\r\n",
                "from difflib import get_close_matches"
            ],
            "outputs": [],
            "metadata": {}
        },
        {
            "cell_type": "markdown",
            "source": [
                "get_vkt_preliminar\r\n",
                "Função para indicar qual modelo será adotado para calcular o VKT Preliminar. Os modelos tiveram por referência CETESB (2013).\r\n",
                "\r\n",
                "CETESB. Curvas de intensidade de uso por tipo de veículo automotor da frota da cidade de São Paulo. São Paulo, SP, 2013. 67 p. (Série Relatórios). Disponível em: < https://cetesb.sp.gov.br/veicular/wpcontent/uploads/sites/6/2013/12/curvas-intensidade-uso-veiculos-automotorescidade-sao-paulo.pdf >. Acesso em: 18 jun. 2021.\r\n"
            ],
            "metadata": {}
        },
        {
            "cell_type": "code",
            "execution_count": null,
            "source": [
                "def get_vkt_preliminar (df, ano_base):\r\n",
                "    if(df['Tipo'] == 'AUTOMOVEL'):\r\n",
                "        if(df['Combustivel'] == 'FLEX'):\r\n",
                "            return vkt_flex(df['Ano'], ano_base)\r\n",
                "        elif(df['Combustivel'] == 'GASOLINA'):\r\n",
                "            return vkt_gasolina(df['Ano'], ano_base)\r\n",
                "        elif(df['Combustivel'] == 'ALCOOL'):\r\n",
                "            return vkt_alcool(df['Ano'], ano_base)\r\n",
                "        elif(df['Combustivel'] == 'DIESEL'):\r\n",
                "            return vkt_util_diesel(df['Ano'], ano_base)\r\n",
                "    elif(df['Tipo'] in ['UTILITARIO', 'CAMIONETA']):\r\n",
                "        if(df['Combustivel'] == 'GASOLINA'):\r\n",
                "            return vkt_util_gasolina(df['Ano'], ano_base)\r\n",
                "        elif(df['Combustivel'] == 'FLEX'):\r\n",
                "            return vkt_util_flex(df['Ano'], ano_base)\r\n",
                "        elif(df['Combustivel'] == 'DIESEL'):\r\n",
                "            return vkt_util_diesel(df['Ano'], ano_base)\r\n",
                "        elif(df['Combustivel'] == 'ALCOOL'):\r\n",
                "            return vkt_alcool(df['Ano'], ano_base)\r\n",
                "    elif(df['Tipo'] == 'CAMINHAO'):\r\n",
                "        return vkt_caminhao(df['Ano'], ano_base)\r\n",
                "    elif(df['Tipo'] == 'CAMINHONETE'):\r\n",
                "        return vkt_caminhonete(df['Ano'], ano_base)\r\n",
                "    elif(df['Tipo'] == 'ONIBUS'):\r\n",
                "        return vkt_onibus(df['Ano'], ano_base)\r\n",
                "    elif(df['Tipo'] == 'MICROONIBUS'):\r\n",
                "        return vkt_microonibus(df['Ano'], ano_base)\r\n",
                "    elif(df['Tipo'] == 'CAMINHAO TRATOR'):\r\n",
                "        return vkt_caminhao_trator(df['Ano'], ano_base)\r\n",
                "    elif(df['Tipo'] in ['MOTOCICLETA', 'CICLOMOTOR', 'TRICICLO', 'QUADRICICLO']):\r\n",
                "        return vkt_motociclo(df['Ano'], ano_base)\r\n",
                "    elif(df['Tipo'] == 'MOTONETA'):\r\n",
                "        return vkt_motoneta(df['Ano'], ano_base)\r\n",
                "    else:\r\n",
                "        return np.nan"
            ],
            "outputs": [],
            "metadata": {}
        },
        {
            "cell_type": "markdown",
            "source": [
                "Modelo ajustado para a intensidade de uso dos automóveis e derivados a gasolina (quilometragem média anual segundo a idade)"
            ],
            "metadata": {}
        },
        {
            "cell_type": "code",
            "execution_count": null,
            "source": [
                "def vkt_gasolina (ano_fab, ano_base):\r\n",
                "    idade = ano_base - ano_fab\r\n",
                "    if (idade > 40):\r\n",
                "        return 6174\r\n",
                "    else:\r\n",
                "        return (0.6716*(idade**3) - 49.566*(idade**2) + 779.66*idade + 11266)"
            ],
            "outputs": [],
            "metadata": {}
        },
        {
            "cell_type": "markdown",
            "source": [
                "Modelo ajustado para a intensidade de uso dos automóveis e derivados a etanol (quilometragem média por ano segundo a idade)"
            ],
            "metadata": {}
        },
        {
            "cell_type": "code",
            "execution_count": null,
            "source": [
                "def vkt_alcool (ano_fab, ano_base):\r\n",
                "    idade = ano_base - ano_fab\r\n",
                "    if (idade > 28):\r\n",
                "        return 8275\r\n",
                "    else:\r\n",
                "        return (-3.292*(idade**3) + 174.31*(idade**2) - 3083.6*idade + 31628)"
            ],
            "outputs": [],
            "metadata": {}
        },
        {
            "cell_type": "markdown",
            "source": [
                "Modelo ajustado para a intensidade de uso dos automóveis e derivados flex (quilometragem média por ano segundo a idade)"
            ],
            "metadata": {}
        },
        {
            "cell_type": "code",
            "execution_count": null,
            "source": [
                "def vkt_flex (ano_fab, ano_base):\r\n",
                "    idade = ano_base - ano_fab\r\n",
                "    if(idade > 10):\r\n",
                "        return np.nan\r\n",
                "    elif(idade > 8):\r\n",
                "        return 15000\r\n",
                "    elif(idade == 1):\r\n",
                "        return 17220\r\n",
                "    else:\r\n",
                "        return (-24.288*(idade**3) + 426.19*(idade**2) - 2360.4*idade + 19178)"
            ],
            "outputs": [],
            "metadata": {}
        },
        {
            "cell_type": "markdown",
            "source": [
                "Modelo ajustado para a intensidade de uso dos utilitários Otto a gasolina (quilometragem média por ano segundo a idade)"
            ],
            "metadata": {}
        },
        {
            "cell_type": "code",
            "execution_count": null,
            "source": [
                "def vkt_util_gasolina (ano_fab, ano_base):\r\n",
                "    idade = ano_base - ano_fab\r\n",
                "    if (idade > 36):\r\n",
                "        return 7862\r\n",
                "    else:\r\n",
                "        return (0.3623*(idade**3) - 13.828*(idade**2)- 255.77*idade + 18202)"
            ],
            "outputs": [],
            "metadata": {}
        },
        {
            "cell_type": "markdown",
            "source": [
                "Modelo ajustado para a intensidade de uso dos utilitários Otto flex (quilometragem média por ano segundo a idade)"
            ],
            "metadata": {}
        },
        {
            "cell_type": "code",
            "execution_count": null,
            "source": [
                "def vkt_util_flex (ano_fab, ano_base):\r\n",
                "    idade = ano_base - ano_fab\r\n",
                "    if (idade > 36):\r\n",
                "        return 7862\r\n",
                "    else:\r\n",
                "        return (107.39*(idade**3) - 1687.3*(idade**2) + 7200.5*idade + 12599)"
            ],
            "outputs": [],
            "metadata": {}
        },
        {
            "cell_type": "markdown",
            "source": [
                "Modelo ajustado para a intensidade de uso dos caminhões diesel (quilometragem média por ano segundo a idade)"
            ],
            "metadata": {}
        },
        {
            "cell_type": "code",
            "execution_count": null,
            "source": [
                "def vkt_caminhao (ano_fab, ano_base):\r\n",
                "    idade = ano_base - ano_fab\r\n",
                "    if(idade > 60):\r\n",
                "        return np.nan\r\n",
                "    elif(idade > 40):\r\n",
                "        return 21804\r\n",
                "    else:\r\n",
                "        return (0.0774*(idade**4) - 7.3952*(idade**3) + 249.38*(idade**2) - 3664*idade + 44505)"
            ],
            "outputs": [],
            "metadata": {}
        },
        {
            "cell_type": "markdown",
            "source": [
                "Modelo ajustado para a intensidade de uso das Caminhonetes diesel (quilometragem média por ano segundo a idade)"
            ],
            "metadata": {}
        },
        {
            "cell_type": "code",
            "execution_count": null,
            "source": [
                "def vkt_caminhonete (ano_fab, ano_base):\r\n",
                "    idade = ano_base - ano_fab\r\n",
                "    if (idade > 10):\r\n",
                "        return 15950\r\n",
                "    else:\r\n",
                "        return (-10.399*(idade**3) + 86.398*(idade**2) - 1271.3*idade + 29638)"
            ],
            "outputs": [],
            "metadata": {}
        },
        {
            "cell_type": "markdown",
            "source": [
                "Modelo ajustado para a intensidade de uso dos ônibus urbanos diesel (quilometragem média por ano segundo a idade)"
            ],
            "metadata": {}
        },
        {
            "cell_type": "code",
            "execution_count": null,
            "source": [
                "def vkt_onibus (ano_fab, ano_base):\r\n",
                "    idade = ano_base - ano_fab\r\n",
                "    if (idade > 15):\r\n",
                "        return 64108*math.exp(-0.046*idade)\r\n",
                "    else:\r\n",
                "        return (-8.8551*(idade**3) + 263.41*(idade**2) - 4219.4*idade + 66435)"
            ],
            "outputs": [],
            "metadata": {}
        },
        {
            "cell_type": "markdown",
            "source": [
                "Modelo ajustado para a intensidade de uso dos utilitários leves diesel (quilometragem média por ano segundo a idade)"
            ],
            "metadata": {}
        },
        {
            "cell_type": "code",
            "execution_count": null,
            "source": [
                "def vkt_util_diesel (ano_fab, ano_base):\r\n",
                "    idade = ano_base - ano_fab\r\n",
                "    if(idade > 8):\r\n",
                "        return 13040\r\n",
                "    else:\r\n",
                "        return (-64.592*(idade**3) + 720.31*(idade**2) - 2280.8*idade + 19242)"
            ],
            "outputs": [],
            "metadata": {}
        },
        {
            "cell_type": "markdown",
            "source": [
                "Modelo ajustado para a intensidade de uso dos micro-ônibus diesel\r\n",
                "\r\n",
                "Como não existe log(0) foi feito um ajuste para o ano 0, considerando log(0)=0"
            ],
            "metadata": {}
        },
        {
            "cell_type": "code",
            "execution_count": null,
            "source": [
                "def vkt_microonibus (ano_fab, ano_base):\r\n",
                "    idade = ano_base - ano_fab\r\n",
                "    #Realizado ajuste para idade == 0\r\n",
                "    if (idade > 15):\r\n",
                "        return 18680\r\n",
                "    elif (idade == 0):\r\n",
                "        return 35578\r\n",
                "    else:\r\n",
                "        return (-5661*(math.log(idade)) + 35578)"
            ],
            "outputs": [],
            "metadata": {}
        },
        {
            "cell_type": "markdown",
            "source": [
                "Modelo ajustado para a intensidade de uso dos caminhões-trator (quilometragem média por ano segundo a idade)"
            ],
            "metadata": {}
        },
        {
            "cell_type": "code",
            "execution_count": null,
            "source": [
                "def vkt_caminhao_trator (ano_fab, ano_base):\r\n",
                "    idade = ano_base - ano_fab\r\n",
                "    if(idade > 52):\r\n",
                "        return np.nan\r\n",
                "    else:\r\n",
                "        return (-1023.7*idade + 57247)"
            ],
            "outputs": [],
            "metadata": {}
        },
        {
            "cell_type": "markdown",
            "source": [
                "Modelo ajustado para a intensidade de uso de motociclos (quilometragem média segundo a idade)"
            ],
            "metadata": {}
        },
        {
            "cell_type": "code",
            "execution_count": null,
            "source": [
                "def vkt_motociclo (ano_fab, ano_base):\r\n",
                "    idade = ano_base - ano_fab\r\n",
                "    if (idade > 17):\r\n",
                "        return 9050\r\n",
                "    else:\r\n",
                "        return (1.3392*(idade**3) - 60.492*(idade**2) + 442.92*idade + 12423)"
            ],
            "outputs": [],
            "metadata": {}
        },
        {
            "cell_type": "markdown",
            "source": [
                "Modelo ajustado para a intensidade de uso de motonetas (quilometragem média por ano segundo a idade)"
            ],
            "metadata": {}
        },
        {
            "cell_type": "code",
            "execution_count": null,
            "source": [
                "def vkt_motoneta (ano_fab, ano_base):\r\n",
                "    idade = ano_base - ano_fab\r\n",
                "    if (idade > 10):\r\n",
                "        return (951491.4958*(idade**(-1.9209)))\r\n",
                "    else:\r\n",
                "        return (-35.147*(idade**3) + 620.87*(idade**2) - 2970.3*idade + 11431)"
            ],
            "outputs": [],
            "metadata": {}
        },
        {
            "cell_type": "markdown",
            "source": [
                "get_close_model  \r\n",
                "Função procura, inicialmente, se há um automóvel da base DENATRAN com nome exatamente igual à base iCarros. Se não há, busca, através da função get_close_matches, o modelo cujo nome mais se aproxima. Ressalta-se que é realizado um processo de segmentação do modelo para aumentar a probabilidade de resultado, mas há resultados não muito adequados. Sugere-se aumentar o cutoff e realizar um aprofundamento na análise entre os resultados encontrados e os nomes originais.\r\n",
                "\r\n",
                "Exemplo de como o algoritimo trabalha\r\n",
                "Marca/Modelo 'FIAT/ARGO DRIVE 1.3'\r\n",
                "\r\n",
                "Primeiramente, separa marca do modelo\r\n",
                "Marca 'FIAT'\r\n",
                "Modelo 'ARGO DRIVE 1.3'\r\n",
                "\r\n",
                "Na sequência, subdivide o modelo em no máximo 3 utilizando o espaço como delimitador\r\n",
                "Modelo_A 'ARGO'\r\n",
                "Modelo_B 'DRIVE'\r\n",
                "Modelo_C '1.3'\r\n",
                "\r\n",
                "Posteriormente, compara individualmente o Modelo_A, Modelo_B e Modelo_C do df_denatran com o Modelo_A a base do iCarros."
            ],
            "metadata": {}
        },
        {
            "cell_type": "code",
            "execution_count": null,
            "source": [
                "def get_close_model (df_denatran):\r\n",
                "    model = df_marca_modelo5[df_denatran == df_marca_modelo5['Modelo_A']].head(1)\r\n",
                "\r\n",
                "    if(len(model) > 0):\r\n",
                "        return model['Modelo_A'].item()\r\n",
                "\r\n",
                "    model = get_close_matches(df_denatran, df_marca_modelo5['Modelo_A'], n=1, cutoff=0.7)\r\n",
                "\r\n",
                "    if(len(model) > 0):\r\n",
                "        return model[0]\r\n",
                "    else:\r\n",
                "        return np.nan"
            ],
            "outputs": [],
            "metadata": {}
        },
        {
            "cell_type": "markdown",
            "source": [
                "get_comb\r\n",
                "Função de "
            ],
            "metadata": {}
        },
        {
            "cell_type": "code",
            "execution_count": null,
            "source": [
                "def get_comb (df_denatran):\r\n",
                "    gasolina = np.nan\r\n",
                "    alcool = np.nan\r\n",
                "    diesel = np.nan\r\n",
                "\r\n",
                "    if((np.isnan(df_denatran['Consumo_Cidade_Gasolina_A'])) & (np.isnan(df_denatran['Consumo_Cidade_Gasolina_B'])) & (np.isnan(df_denatran['Consumo_Cidade_Gasolina_C'])) & (np.isnan(df_denatran['Consumo_Cidade_Alcool_A'])) & (np.isnan(df_denatran['Consumo_Cidade_Alcool_B'])) & (np.isnan(df_denatran['Consumo_Cidade_Alcool_C']))):\r\n",
                "        return [gasolina, alcool, diesel]\r\n",
                "\r\n",
                "    if((~np.isnan(df_denatran['Consumo_Cidade_Gasolina_A'])) & (df_denatran['Combustivel_Gasolina_A'] == 'Gasolina')):\r\n",
                "        gasolina = df_denatran['Consumo_Cidade_Gasolina_A']\r\n",
                "    elif((~np.isnan(df_denatran['Consumo_Cidade_Gasolina_B'])) & (df_denatran['Combustivel_Gasolina_B'] == 'Gasolina')):\r\n",
                "        gasolina = df_denatran['Consumo_Cidade_Gasolina_B']\r\n",
                "    elif((~np.isnan(df_denatran['Consumo_Cidade_Gasolina_C'])) & (df_denatran['Combustivel_Gasolina_C'] == 'Gasolina')):\r\n",
                "        gasolina = df_denatran['Consumo_Cidade_Gasolina_C']\r\n",
                "\r\n",
                "    if((~np.isnan(df_denatran['Consumo_Cidade_Alcool_A'])) & (df_denatran['Combustivel_Alcool_A'] == 'Alcool')):\r\n",
                "        alcool = df_denatran['Consumo_Cidade_Alcool_A']\r\n",
                "    elif((~np.isnan(df_denatran['Consumo_Cidade_Alcool_B'])) & (df_denatran['Combustivel_Alcool_B'] == 'Alcool')):\r\n",
                "        alcool = df_denatran['Consumo_Cidade_Alcool_B']\r\n",
                "    elif((~np.isnan(df_denatran['Consumo_Cidade_Alcool_C'])) & (df_denatran['Combustivel_Alcool_C'] == 'Alcool')):\r\n",
                "        alcool = df_denatran['Consumo_Cidade_Alcool_C']\r\n",
                "\r\n",
                "    if((~np.isnan(df_denatran['Consumo_Cidade_Gasolina_A'])) & (df_denatran['Combustivel_Gasolina_A'] == 'Alcool')):\r\n",
                "        alcool = df_denatran['Consumo_Cidade_Gasolina_A']\r\n",
                "    elif((~np.isnan(df_denatran['Consumo_Cidade_Gasolina_B'])) & (df_denatran['Combustivel_Gasolina_B'] == 'Alcool')):\r\n",
                "        alcool = df_denatran['Consumo_Cidade_Gasolina_B']\r\n",
                "    elif((~np.isnan(df_denatran['Consumo_Cidade_Gasolina_C'])) & (df_denatran['Combustivel_Gasolina_C'] == 'Alcool')):\r\n",
                "        alcool = df_denatran['Consumo_Cidade_Gasolina_C']\r\n",
                "\r\n",
                "    if((~np.isnan(df_denatran['Consumo_Cidade_Alcool_A'])) & (df_denatran['Combustivel_Alcool_A'] == 'Gasolina')):\r\n",
                "        gasolina = df_denatran['Consumo_Cidade_Alcool_A']\r\n",
                "    elif((~np.isnan(df_denatran['Consumo_Cidade_Alcool_B'])) & (df_denatran['Combustivel_Alcool_B'] == 'Gasolina')):\r\n",
                "        gasolina = df_denatran['Consumo_Cidade_Alcool_B']\r\n",
                "    elif((~np.isnan(df_denatran['Consumo_Cidade_Alcool_C'])) & (df_denatran['Combustivel_Alcool_C'] == 'Gasolina')):\r\n",
                "        gasolina = df_denatran['Consumo_Cidade_Alcool_C']\r\n",
                "\r\n",
                "    if((~np.isnan(df_denatran['Consumo_Cidade_Gasolina_A'])) & (df_denatran['Combustivel_Gasolina_A'] == 'Diesel')):\r\n",
                "        diesel = df_denatran['Consumo_Cidade_Gasolina_A']\r\n",
                "    elif((~np.isnan(df_denatran['Consumo_Cidade_Gasolina_B'])) & (df_denatran['Combustivel_Gasolina_B'] == 'Diesel')):\r\n",
                "        diesel = df_denatran['Consumo_Cidade_Gasolina_B']\r\n",
                "    elif((~np.isnan(df_denatran['Consumo_Cidade_Gasolina_C'])) & (df_denatran['Combustivel_Gasolina_C'] == 'Diesel')):\r\n",
                "        diesel = df_denatran['Consumo_Cidade_Gasolina_C']\r\n",
                "\r\n",
                "    if((~np.isnan(df_denatran['Consumo_Cidade_Alcool_A'])) & (df_denatran['Combustivel_Alcool_A'] == 'Diesel')):\r\n",
                "        diesel = df_denatran['Consumo_Cidade_Alcool_A']\r\n",
                "    elif((~np.isnan(df_denatran['Consumo_Cidade_Alcool_B'])) & (df_denatran['Combustivel_Alcool_B'] == 'Diesel')):\r\n",
                "        diesel = df_denatran['Consumo_Cidade_Alcool_B']\r\n",
                "    elif((~np.isnan(df_denatran['Consumo_Cidade_Alcool_C'])) & (df_denatran['Combustivel_Alcool_C'] == 'Diesel')):\r\n",
                "        diesel = df_denatran['Consumo_Cidade_Alcool_C']\r\n",
                "\r\n",
                "    return [gasolina, alcool, diesel]"
            ],
            "outputs": [],
            "metadata": {}
        }
    ],
    "metadata": {
        "orig_nbformat": 4,
        "language_info": {
            "name": "python"
        }
    },
    "nbformat": 4,
    "nbformat_minor": 2
}