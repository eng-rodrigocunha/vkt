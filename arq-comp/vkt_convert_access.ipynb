{
    "cells": [
        {
            "cell_type": "code",
            "execution_count": 5,
            "source": [
                "import csv\r\n",
                "import pyodbc\r\n",
                "\r\n",
                "ano = 2017\r\n",
                "\r\n",
                "# set up some constants\r\n",
                "mdb = f'datasets/{ano}/I Frota por UF Município Marca e Modelo DEZ 2017.accdb'\r\n",
                "drv = '{Microsoft Access Driver (*.mdb, *.accdb)}'\r\n",
                "pwd = 'pw'\r\n",
                "\r\n",
                "# connect to db\r\n",
                "con = pyodbc.connect('DRIVER={};DBQ={};PWD={}'.format(drv,mdb,pwd))\r\n",
                "cur = con.cursor()"
            ],
            "outputs": [],
            "metadata": {}
        },
        {
            "cell_type": "code",
            "execution_count": 6,
            "source": [
                "#run a query and get the results\r\n",
                "for table_info in cur.tables(tableType='TABLE'):\r\n",
                "    table = table_info.table_name\r\n",
                "    print(table)\r\n",
                "\r\n",
                "SQL = f\"SELECT * FROM [{table}];\" # your query goes here\r\n",
                "rows = cur.execute(SQL).fetchall()\r\n",
                "\r\n",
                "#columns = [column[0] for column in cur.description]\r\n",
                "\r\n",
                "cur.close()\r\n",
                "con.close()"
            ],
            "outputs": [
                {
                    "output_type": "stream",
                    "name": "stdout",
                    "text": [
                        "Layout I\n"
                    ]
                }
            ],
            "metadata": {}
        },
        {
            "cell_type": "code",
            "execution_count": null,
            "source": [
                "# you could change the mode from 'w' to 'a' (append) for any subsequent queries\r\n",
                "with open(f'datasets/{ano}/I_Frota_por_UF_Municipio_Marca_e_Modelo_Ano_Dezembro_{ano}.txt', 'w') as fou:\r\n",
                "    csv_writer = csv.writer(fou, delimiter=';')\r\n",
                "    csv_writer.writerow(['UF', 'Município', 'Marca Modelo', 'Ano Fabricação Veículo CRV', 'Qtd. Veículos'])\r\n",
                "    csv_writer.writerows(rows)"
            ],
            "outputs": [],
            "metadata": {}
        }
    ],
    "metadata": {
        "orig_nbformat": 4,
        "language_info": {
            "name": "python",
            "version": "3.8.8",
            "mimetype": "text/x-python",
            "codemirror_mode": {
                "name": "ipython",
                "version": 3
            },
            "pygments_lexer": "ipython3",
            "nbconvert_exporter": "python",
            "file_extension": ".py"
        },
        "kernelspec": {
            "name": "python3",
            "display_name": "Python 3.8.8 64-bit ('ambiente': conda)"
        },
        "interpreter": {
            "hash": "eb41aefadbd6a9efea6096a792c5e6eb7ba53d572987d7d43f05572d0319d59f"
        }
    },
    "nbformat": 4,
    "nbformat_minor": 2
}