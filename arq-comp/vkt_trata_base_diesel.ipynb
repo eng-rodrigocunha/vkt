{
    "cells": [
        {
            "cell_type": "code",
            "execution_count": null,
            "source": [
                "import pandas as pd\r\n",
                "import numpy as np\r\n",
                "df_diesel = pd.read_excel('datasets/venda_diesel_segmento_2020.xlsx', sheet_name='DADOS')\r\n",
                "df_diesel.rename(columns={'LOCALIDADE': 'Municipio'}, inplace = True)"
            ],
            "outputs": [],
            "metadata": {}
        },
        {
            "cell_type": "code",
            "execution_count": null,
            "source": [
                "df_diesel.head()"
            ],
            "outputs": [],
            "metadata": {}
        },
        {
            "cell_type": "code",
            "execution_count": null,
            "source": [
                "df_rms = pd.read_csv('datasets/rms_uf_resumida_rev02.csv')\r\n",
                "\r\n",
                "df_diesel = df_diesel[df_diesel[['UF', 'Municipio']].apply(tuple, axis=1).isin(df_rms[['UF','Municipio']].apply(tuple, axis=1))]\r\n",
                "df_diesel = pd.merge(df_diesel, df_rms[['Municipio', 'UF', 'RM']], on=['Municipio', 'UF'], how='left')"
            ],
            "outputs": [],
            "metadata": {}
        },
        {
            "cell_type": "code",
            "execution_count": null,
            "source": [
                "df_diesel.head()"
            ],
            "outputs": [],
            "metadata": {}
        },
        {
            "cell_type": "code",
            "execution_count": null,
            "source": [
                "df_diesel['Volume_Real'] = df_diesel['POSTO REVENDEDOR']+df_diesel['RODOVIÁRIO']\r\n",
                "df_diesel['Fator'] = df_diesel['Volume_Real']/df_diesel['TOTAL']\r\n",
                "df_diesel['Fator_Diesel'] = df_diesel['Fator']*df_diesel['Volume_Real']"
            ],
            "outputs": [],
            "metadata": {}
        },
        {
            "cell_type": "code",
            "execution_count": null,
            "source": [
                "df_diesel.head()"
            ],
            "outputs": [],
            "metadata": {}
        },
        {
            "cell_type": "code",
            "execution_count": null,
            "source": [
                "#df_diesel_g_fator = df_diesel.groupby(['RM'])['Fator'].sum()\r\n",
                "df_diesel_g_fator_pesado = df_diesel.groupby(['RM'])['Fator_Diesel'].sum()\r\n",
                "#print(df_diesel_g_fator_pesado.head())\r\n",
                "df_diesel_g_fator_volume_real = df_diesel.groupby(['RM'])['Volume_Real'].sum()\r\n",
                "#print(df_diesel_g_fator_volume_real.head())\r\n",
                "df_diesel_g_fator = df_diesel_g_fator_pesado/df_diesel_g_fator_volume_real\r\n",
                "df_diesel_g_fator"
            ],
            "outputs": [],
            "metadata": {}
        },
        {
            "cell_type": "code",
            "execution_count": null,
            "source": [
                "df_diesel_g_fator2 = df_diesel.groupby(['RM'])['Fator'].mean()\r\n",
                "#df_diesel_g_fator2"
            ],
            "outputs": [],
            "metadata": {}
        },
        {
            "cell_type": "code",
            "execution_count": null,
            "source": [
                "df_diesel_g_fator.to_csv('datasets/base_diesel_rm.csv')"
            ],
            "outputs": [],
            "metadata": {}
        }
    ],
    "metadata": {
        "orig_nbformat": 4,
        "language_info": {
            "name": "python",
            "version": "3.8.8",
            "mimetype": "text/x-python",
            "codemirror_mode": {
                "name": "ipython",
                "version": 3
            },
            "pygments_lexer": "ipython3",
            "nbconvert_exporter": "python",
            "file_extension": ".py"
        },
        "kernelspec": {
            "name": "python3",
            "display_name": "Python 3.8.8 64-bit ('ambiente': conda)"
        },
        "interpreter": {
            "hash": "eb41aefadbd6a9efea6096a792c5e6eb7ba53d572987d7d43f05572d0319d59f"
        }
    },
    "nbformat": 4,
    "nbformat_minor": 2
}