{
    "cells": [
        {
            "cell_type": "markdown",
            "source": [
                "Realiza join de datasets dos diferentes anos"
            ],
            "metadata": {}
        },
        {
            "cell_type": "code",
            "execution_count": 1,
            "source": [
                "import pandas as pd\r\n",
                "\r\n",
                "versao = 4\r\n",
                "\r\n",
                "df_append = []\r\n",
                "\r\n",
                "for ano in range(2015, 2020, 1):\r\n",
                "    df = pd.read_csv('datasets/{}/vkt_v{}_rm.csv'.format(ano, versao), low_memory=False)\r\n",
                "    df['Ano'] = ano\r\n",
                "    df_append.append(df)\r\n",
                "\r\n",
                "df_rms = pd.concat(df_append)\r\n",
                "\r\n",
                "df_rms = df_rms.replace(\r\n",
                "    {'Região Integrada de Desenvolvimento da Grande Teresina': 'RIDE-Teresina',\r\n",
                "    'Região Integrada de Desenvolvimento do Distrito Federal e Entorno': 'RIDE-DF',\r\n",
                "    'Região Metropolitana da Capital': 'RM Boa Vista',\r\n",
                "    'Região Metropolitana da Grande São Luís': 'RM São Luís',\r\n",
                "    'Região Metropolitana da Grande Vitória': 'RM Vitória',\r\n",
                "    'Região Metropolitana de Aracaju': 'RM Aracaju',\r\n",
                "    'Região Metropolitana de Belo Horizonte': 'RMBH',\r\n",
                "    'Região Metropolitana de Belém': 'RM Belém',\r\n",
                "    'Região Metropolitana de Curitiba': 'RM Curitiba',\r\n",
                "    'Região Metropolitana de Florianópolis': 'RM Florianópolis',\r\n",
                "    'Região Metropolitana de Fortaleza': 'RM Fortaleza',\r\n",
                "    'Região Metropolitana de Goiânia': 'RM Goiânia',\r\n",
                "    'Região Metropolitana de João Pessoa': 'RM João Pessoa',\r\n",
                "    'Região Metropolitana de Macapá': 'RM Macapá',\r\n",
                "    'Região Metropolitana de Maceió': 'RM Maceió',\r\n",
                "    'Região Metropolitana de Manaus': 'RM Manaus',\r\n",
                "    'Região Metropolitana de Natal': 'RM Natal',\r\n",
                "    'Região Metropolitana de Palmas': 'RM Palmas',\r\n",
                "    'Região Metropolitana de Porto Alegre': 'RM Porto Alegre',\r\n",
                "    'Região Metropolitana de Porto Velho': 'RM Porto Velho',\r\n",
                "    'Região Metropolitana de Recife': 'RM Recife',\r\n",
                "    'Região Metropolitana de Salvador': 'RM Salvador',\r\n",
                "    'Região Metropolitana de São Paulo': 'RMSP',\r\n",
                "    'Região Metropolitana do Rio de Janeiro': 'RMRJ',\r\n",
                "    'Região Metropolitana do Vale do Rio Cuiabá': 'RM Cuiabá'})\r\n",
                "\r\n",
                "df_rms.to_csv('datasets/vkt_geral_v{}_rm.csv'.format(versao), index=False)"
            ],
            "outputs": [
                {
                    "output_type": "error",
                    "ename": "SyntaxError",
                    "evalue": "invalid syntax (<ipython-input-1-1020d39acbcb>, line 18)",
                    "traceback": [
                        "\u001b[1;36m  File \u001b[1;32m\"<ipython-input-1-1020d39acbcb>\"\u001b[1;36m, line \u001b[1;32m18\u001b[0m\n\u001b[1;33m    'Região Metropolitana da Grande São Luís': 'RM São Luís',\u001b[0m\n\u001b[1;37m                                             ^\u001b[0m\n\u001b[1;31mSyntaxError\u001b[0m\u001b[1;31m:\u001b[0m invalid syntax\n"
                    ]
                }
            ],
            "metadata": {}
        }
    ],
    "metadata": {
        "orig_nbformat": 4,
        "language_info": {
            "name": "python",
            "version": "3.8.8",
            "mimetype": "text/x-python",
            "codemirror_mode": {
                "name": "ipython",
                "version": 3
            },
            "pygments_lexer": "ipython3",
            "nbconvert_exporter": "python",
            "file_extension": ".py"
        },
        "kernelspec": {
            "name": "python3",
            "display_name": "Python 3.8.8 64-bit ('ambiente': conda)"
        },
        "interpreter": {
            "hash": "eb41aefadbd6a9efea6096a792c5e6eb7ba53d572987d7d43f05572d0319d59f"
        }
    },
    "nbformat": 4,
    "nbformat_minor": 2
}