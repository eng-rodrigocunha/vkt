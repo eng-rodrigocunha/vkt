{
    "cells": [
        {
            "cell_type": "markdown",
            "source": [
                "Realiza join de datasets dos diferentes anos"
            ],
            "metadata": {}
        },
        {
            "cell_type": "code",
            "execution_count": 1,
            "source": [
                "import pandas as pd\r\n",
                "\r\n",
                "versao = 4\r\n",
                "\r\n",
                "df_append = []\r\n",
                "\r\n",
                "for ano in range(2015, 2020, 1):\r\n",
                "    df = pd.read_csv('datasets/{}/vkt_v{}_rm.csv'.format(ano, versao), low_memory=False)\r\n",
                "    df['Ano'] = ano\r\n",
                "    df_append.append(df)\r\n",
                "\r\n",
                "df_rms = pd.concat(df_append)\r\n",
                "\r\n",
                "df_rms.to_csv('datasets/vkt_geral_v{}_rm.csv'.format(versao), index=False)"
            ],
            "outputs": [],
            "metadata": {}
        }
    ],
    "metadata": {
        "orig_nbformat": 4,
        "language_info": {
            "name": "python",
            "version": "3.8.8",
            "mimetype": "text/x-python",
            "codemirror_mode": {
                "name": "ipython",
                "version": 3
            },
            "pygments_lexer": "ipython3",
            "nbconvert_exporter": "python",
            "file_extension": ".py"
        },
        "kernelspec": {
            "name": "python3",
            "display_name": "Python 3.8.8 64-bit ('ambiente': conda)"
        },
        "interpreter": {
            "hash": "eb41aefadbd6a9efea6096a792c5e6eb7ba53d572987d7d43f05572d0319d59f"
        }
    },
    "nbformat": 4,
    "nbformat_minor": 2
}