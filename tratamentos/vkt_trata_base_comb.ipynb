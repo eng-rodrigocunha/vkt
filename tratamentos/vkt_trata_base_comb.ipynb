{
    "cells": [
        {
            "cell_type": "code",
            "execution_count": null,
            "metadata": {},
            "outputs": [],
            "source": [
                "import pandas as pd\n",
                "df_comb_rm = pd.read_csv('datasets/base_combustiveis_precos.csv', low_memory=False, decimal=',')"
            ]
        },
        {
            "cell_type": "code",
            "execution_count": null,
            "metadata": {},
            "outputs": [],
            "source": [
                "df_comb_rm.rename(columns={'Estado - Sigla': 'UF', 'Valor de Venda': 'Valor_Venda', 'Data da Coleta': 'Data'}, inplace = True)\n",
                "\n",
                "df_rms = pd.read_csv('datasets/rms_uf_resumida_rev02.csv')\n",
                "\n",
                "df_comb_rm = df_comb_rm[df_comb_rm[['UF', 'Municipio']].apply(tuple, axis=1).isin(df_rms[['UF','Municipio']].apply(tuple, axis=1))]\n",
                "df_comb_rm = pd.merge(df_comb_rm, df_rms[['Municipio', 'UF', 'RM']], on=['Municipio', 'UF'], how='left')\n",
                "\n",
                "df_comb_rm['Data'] = pd.to_datetime(df_comb_rm['Data'])"
            ]
        },
        {
            "cell_type": "code",
            "execution_count": null,
            "metadata": {},
            "outputs": [],
            "source": [
                "df_comb_rm"
            ]
        },
        {
            "cell_type": "code",
            "execution_count": null,
            "metadata": {},
            "outputs": [],
            "source": [
                "df_comb_rm.dtypes"
            ]
        },
        {
            "cell_type": "code",
            "execution_count": null,
            "metadata": {},
            "outputs": [],
            "source": [
                "df_comb_rm['Valor_Venda'] = df_comb_rm['Valor_Venda'].apply(lambda x: x.replace(',', '.'))\n",
                "df_comb_rm['Valor_Venda'] = pd.to_numeric(df_comb_rm['Valor_Venda'])\n",
                "df_comb_rm['Ano'] = pd.DatetimeIndex(df_comb_rm['Data']).year"
            ]
        },
        {
            "cell_type": "code",
            "execution_count": null,
            "metadata": {},
            "outputs": [],
            "source": [
                "df_comb_rm"
            ]
        },
        {
            "cell_type": "code",
            "execution_count": null,
            "metadata": {},
            "outputs": [],
            "source": [
                "df_comb_rm.dtypes"
            ]
        },
        {
            "cell_type": "code",
            "execution_count": null,
            "metadata": {},
            "outputs": [],
            "source": [
                "df_comb_rm_g = df_comb_rm.groupby(['RM', 'Ano', 'Produto',])['Valor_Venda'].mean()\n",
                "df_comb_rm_g = df_comb_rm_g.reset_index()\n",
                "\n",
                "df_comb_rm_g\n",
                "\n",
                "#df_comb_rm_g.to_csv('datasets/base_combustiveis_precos_rm.csv')"
            ]
        },
        {
            "cell_type": "code",
            "execution_count": null,
            "metadata": {},
            "outputs": [],
            "source": [
                "df_comb_rm_rel = df_comb_rm_g[((df_comb_rm_g['Produto'] == 'GASOLINA') | (df_comb_rm_g['Produto'] == 'ETANOL'))]\n",
                "df_comb_rm_rel\n",
                "\n",
                "#preco_gasolina = df_preco_comb_rm[((df_preco_comb_rm['Produto'] == 'GASOLINA') & (df_preco_comb_rm['Ano'] == ano) & (df_preco_comb_rm['RM'] == df['RM']))]['Preco_Venda']\n",
                "#preco_alcool = df_preco_comb_rm[((df_preco_comb_rm['Produto'] == 'ALCOOL') & (df_preco_comb_rm['Ano'] == ano) & (df_preco_comb_rm['RM'] == df['RM']))]['Preco_Venda']"
            ]
        },
        {
            "cell_type": "code",
            "execution_count": null,
            "metadata": {},
            "outputs": [],
            "source": [
                "df_comb_rm_rel = df_comb_rm_rel.pivot(index=['RM', 'Ano'], columns='Produto', values='Valor_Venda')\n",
                "df_comb_rm_rel = df_comb_rm_rel.reset_index()\n",
                "df_comb_rm_rel"
            ]
        },
        {
            "cell_type": "code",
            "execution_count": null,
            "metadata": {},
            "outputs": [],
            "source": [
                "df_comb_rm_rel['Relacao'] = (1 / (1 + 0.001685*((6567.5754)**(df_comb_rm_rel['ETANOL']/df_comb_rm_rel['GASOLINA']))))\n",
                "df_comb_rm_rel"
            ]
        },
        {
            "cell_type": "code",
            "execution_count": null,
            "metadata": {},
            "outputs": [],
            "source": [
                "df_comb_rm_rel.to_csv('datasets/base_combustiveis_precos_rel_rm.csv')"
            ]
        }
    ],
    "metadata": {
        "kernelspec": {
            "display_name": "Python 3.8.12 ('ambiente')",
            "language": "python",
            "name": "python3"
        },
        "language_info": {
            "codemirror_mode": {
                "name": "ipython",
                "version": 3
            },
            "file_extension": ".py",
            "mimetype": "text/x-python",
            "name": "python",
            "nbconvert_exporter": "python",
            "pygments_lexer": "ipython3",
            "version": "3.8.12"
        },
        "orig_nbformat": 4,
        "vscode": {
            "interpreter": {
                "hash": "a7bf7aacfaa9b7d360d0e6e8fec79188b95ff2365a4a105cc01ec092e2022ef7"
            }
        }
    },
    "nbformat": 4,
    "nbformat_minor": 2
}
