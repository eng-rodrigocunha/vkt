{
    "cells": [
        {
            "cell_type": "code",
            "execution_count": null,
            "metadata": {},
            "outputs": [],
            "source": [
                "import pandas as pd\n",
                "import numpy as np\n",
                "from unidecode import unidecode\n",
                "\n",
                "file = pd.ExcelFile('datasets/combustivel-2000a2020.xlsx')\n",
                "\n",
                "#names = file.sheet_names  # see all sheet names\n",
                "df_comb = file.parse('Diesel')\n",
                "df_comb['Combustivel'] = 'Diesel'\n",
                "\n",
                "for name in ['Etanol', 'Gasolina', 'GNV']:\n",
                "    df = file.parse(name)\n",
                "    df['Combustivel'] = name\n",
                "    df_comb = pd.concat([df_comb, df])"
            ]
        },
        {
            "cell_type": "code",
            "execution_count": null,
            "metadata": {},
            "outputs": [],
            "source": [
                "df_comb"
            ]
        },
        {
            "cell_type": "code",
            "execution_count": null,
            "metadata": {},
            "outputs": [],
            "source": [
                "df_comb.rename(columns={'Município': 'Municipio', 'ESTADO': 'UF'}, inplace = True)\n",
                "df_comb"
            ]
        },
        {
            "cell_type": "code",
            "execution_count": null,
            "metadata": {},
            "outputs": [],
            "source": [
                "df_comb['Municipio'] = df_comb['Municipio'].convert_dtypes()\n",
                "df_comb['Municipio'] = df_comb['Municipio'].str.upper()\n",
                "df_comb['Municipio'] = df_comb['Municipio'].apply(unidecode)\n",
                "df_comb['UF'] = df_comb['UF'].convert_dtypes()\n",
                "df_comb['UF'] = df_comb['UF'].str.upper()\n",
                "df_comb['UF'] = df_comb['UF'].apply(unidecode)\n",
                "\n",
                "df_comb"
            ]
        },
        {
            "cell_type": "code",
            "execution_count": null,
            "metadata": {},
            "outputs": [],
            "source": [
                "df_rms = pd.read_csv('datasets/rms_rev02.csv')\n",
                "\n",
                "df_comb_rm = df_comb[df_comb[['UF', 'Municipio']].apply(tuple, axis=1).isin(df_rms[['UF','Municipio']].apply(tuple, axis=1))]\n",
                "df_comb_rm = pd.merge(df_comb_rm, df_rms[['Municipio', 'UF', 'RM']], on=['Municipio', 'UF'], how='left')\n",
                "\n",
                "df_comb_rm"
            ]
        },
        {
            "cell_type": "code",
            "execution_count": null,
            "metadata": {},
            "outputs": [],
            "source": [
                "df_comb_rm.dtypes"
            ]
        },
        {
            "cell_type": "code",
            "execution_count": null,
            "metadata": {},
            "outputs": [],
            "source": [
                "df_comb_rm = df_comb_rm.drop(labels=['CÓDIGO IBGE', 'Capital', 'Código RM'], axis=1)\n",
                "df_comb_rm = df_comb_rm.dropna(axis=1)\n",
                "df_comb_rm"
            ]
        },
        {
            "cell_type": "code",
            "execution_count": null,
            "metadata": {},
            "outputs": [],
            "source": [
                "df_comb_rm = df_comb_rm.melt(id_vars=['UF', 'Municipio', 'RM', 'Combustivel'], var_name='Ano', value_name='Quantidade')\n",
                "df_comb_rm"
            ]
        },
        {
            "cell_type": "code",
            "execution_count": null,
            "metadata": {},
            "outputs": [],
            "source": [
                "df_comb_rm = df_comb_rm.reset_index()\n",
                "df_comb_rm[df_comb_rm['Quantidade'] == 0] = np.NaN\n",
                "df_comb_rm = df_comb_rm.dropna(subset=['Quantidade'])\n",
                "df_comb_rm"
            ]
        },
        {
            "cell_type": "code",
            "execution_count": null,
            "metadata": {},
            "outputs": [],
            "source": [
                "df_comb_rm['Combustivel'] = df_comb_rm['Combustivel'].str.upper()\n",
                "df_comb_rm['Combustivel'] = df_comb_rm['Combustivel'].apply(lambda x: x.replace('ETANOL', 'ALCOOL'))\n",
                "df_comb_rm_g = df_comb_rm.groupby(['RM', 'Ano', 'Combustivel'])['Quantidade'].sum()\n",
                "df_comb_rm_g"
            ]
        },
        {
            "cell_type": "code",
            "execution_count": null,
            "metadata": {},
            "outputs": [],
            "source": [
                "df_comb_rm_g.to_csv('datasets/base_volume_comb_rm.csv')"
            ]
        }
    ],
    "metadata": {
        "kernelspec": {
            "display_name": "Python 3.8.12 ('ambiente')",
            "language": "python",
            "name": "python3"
        },
        "language_info": {
            "codemirror_mode": {
                "name": "ipython",
                "version": 3
            },
            "file_extension": ".py",
            "mimetype": "text/x-python",
            "name": "python",
            "nbconvert_exporter": "python",
            "pygments_lexer": "ipython3",
            "version": "3.8.12"
        },
        "orig_nbformat": 4,
        "vscode": {
            "interpreter": {
                "hash": "a7bf7aacfaa9b7d360d0e6e8fec79188b95ff2365a4a105cc01ec092e2022ef7"
            }
        }
    },
    "nbformat": 4,
    "nbformat_minor": 2
}
